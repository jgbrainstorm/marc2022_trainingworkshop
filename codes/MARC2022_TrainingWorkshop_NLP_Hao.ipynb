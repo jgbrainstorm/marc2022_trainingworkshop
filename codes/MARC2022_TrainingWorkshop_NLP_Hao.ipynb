{
 "cells": [
  {
   "cell_type": "markdown",
   "metadata": {},
   "source": [
    "## MARC 2022 Training Workshop on Machine Learning and NLP \n",
    "## Part II: NLP\n",
    "\n",
    "### Jiangang Hao, ETS, contact: <jhao@ets.org>\n",
    "----"
   ]
  },
  {
   "cell_type": "markdown",
   "metadata": {},
   "source": [
    "### 1. Load packages"
   ]
  },
  {
   "cell_type": "code",
   "execution_count": 1,
   "metadata": {},
   "outputs": [],
   "source": [
    "from nltk.tokenize import word_tokenize, sent_tokenize\n",
    "from nltk.corpus import stopwords\n",
    "from nltk.stem.porter import PorterStemmer\n",
    "from nltk import pos_tag\n",
    "import nltk\n",
    "from spellchecker import SpellChecker\n",
    "import string\n",
    "#nltk.download('punkt')\n",
    "#nltk.download('stopwords')\n",
    "#nltk.download('averaged_perceptron_tagger')"
   ]
  },
  {
   "cell_type": "markdown",
   "metadata": {},
   "source": [
    "### 2. Text preprocessing and Ngram "
   ]
  },
  {
   "cell_type": "code",
   "execution_count": 2,
   "metadata": {},
   "outputs": [],
   "source": [
    "text = 'The class is over. I hopep it is intersting to you. Please let me knoww if not.'"
   ]
  },
  {
   "cell_type": "code",
   "execution_count": 3,
   "metadata": {},
   "outputs": [
    {
     "data": {
      "text/plain": [
       "'the class is over. i hopep it is intersting to you. please let me knoww if not.'"
      ]
     },
     "execution_count": 3,
     "metadata": {},
     "output_type": "execute_result"
    }
   ],
   "source": [
    "#change to lower case\n",
    "text.lower()"
   ]
  },
  {
   "cell_type": "code",
   "execution_count": 4,
   "metadata": {},
   "outputs": [
    {
     "name": "stdout",
     "output_type": "stream",
     "text": [
      "['The', 'class', 'is', 'over', '.', 'I', 'hopep', 'it', 'is', 'intersting', 'to', 'you', '.', 'Please', 'let', 'me', 'knoww', 'if', 'not', '.']\n"
     ]
    }
   ],
   "source": [
    "# word tokenization\n",
    "word_tokens = word_tokenize(text)\n",
    "print(word_tokens)"
   ]
  },
  {
   "cell_type": "code",
   "execution_count": 5,
   "metadata": {},
   "outputs": [
    {
     "name": "stdout",
     "output_type": "stream",
     "text": [
      "['class', 'hopep', 'intersting', 'please', 'let', 'knoww']\n"
     ]
    }
   ],
   "source": [
    "# remove stop words and punctuations\n",
    "stopword_list = stopwords.words('english')\n",
    "punctuation_list = list(string.punctuation)\n",
    "cleaned_text = [txt for txt in word_tokenize(text.lower()) if txt not in stopword_list+punctuation_list]\n",
    "print(cleaned_text)"
   ]
  },
  {
   "cell_type": "code",
   "execution_count": 8,
   "metadata": {},
   "outputs": [
    {
     "name": "stdout",
     "output_type": "stream",
     "text": [
      "['class', 'hope', 'interesting', 'please', 'let', 'knoww']\n"
     ]
    }
   ],
   "source": [
    "# typo correction\n",
    "spell = SpellChecker()\n",
    "corrected_text = [spell.correction(wd) for wd in cleaned_text]\n",
    "print(corrected_text)"
   ]
  },
  {
   "cell_type": "code",
   "execution_count": 9,
   "metadata": {},
   "outputs": [
    {
     "data": {
      "text/plain": [
       "[('class', 'NN'),\n",
       " ('hope', 'NN'),\n",
       " ('interesting', 'VBG'),\n",
       " ('please', 'JJ'),\n",
       " ('let', 'VB'),\n",
       " ('knoww', 'VB')]"
      ]
     },
     "execution_count": 9,
     "metadata": {},
     "output_type": "execute_result"
    }
   ],
   "source": [
    "# part of speech tagging\n",
    "pos_tag(corrected_text)"
   ]
  },
  {
   "cell_type": "code",
   "execution_count": 10,
   "metadata": {},
   "outputs": [
    {
     "data": {
      "text/plain": [
       "[('class', 'class'),\n",
       " ('hope', 'hope'),\n",
       " ('interesting', 'interest'),\n",
       " ('please', 'pleas'),\n",
       " ('let', 'let'),\n",
       " ('knoww', 'knoww')]"
      ]
     },
     "execution_count": 10,
     "metadata": {},
     "output_type": "execute_result"
    }
   ],
   "source": [
    "# Stemming the words\n",
    "porter = PorterStemmer()\n",
    "stem_words = [porter.stem(txt) for txt in corrected_text]\n",
    "list(zip(corrected_text,stem_words))"
   ]
  },
  {
   "cell_type": "code",
   "execution_count": 11,
   "metadata": {},
   "outputs": [],
   "source": [
    "# ngram representation\n",
    "from sklearn.feature_extraction.text import CountVectorizer, TfidfVectorizer\n",
    "import pandas as pd"
   ]
  },
  {
   "cell_type": "code",
   "execution_count": 12,
   "metadata": {},
   "outputs": [
    {
     "name": "stdout",
     "output_type": "stream",
     "text": [
      "['The class is over.', 'I hopep it is intersting to you.', 'Please let me knoww if not.']\n"
     ]
    }
   ],
   "source": [
    "# sentence tokenization\n",
    "sentence_list = sent_tokenize(text)\n",
    "print(sentence_list)"
   ]
  },
  {
   "cell_type": "code",
   "execution_count": 13,
   "metadata": {},
   "outputs": [],
   "source": [
    "# applying the stop words removal and typo correction\n",
    "correct_sentence_list = []\n",
    "for sent in sentence_list:\n",
    "    correct_sentence_list.append(' '.join([spell.correction(wd) for wd in word_tokenize(sent.lower()) \\\n",
    "                                  if wd not in stopword_list+punctuation_list]))\n",
    "   "
   ]
  },
  {
   "cell_type": "code",
   "execution_count": 14,
   "metadata": {},
   "outputs": [
    {
     "data": {
      "text/plain": [
       "['class', 'hope interesting', 'please let knoww']"
      ]
     },
     "execution_count": 14,
     "metadata": {},
     "output_type": "execute_result"
    }
   ],
   "source": [
    "correct_sentence_list"
   ]
  },
  {
   "cell_type": "code",
   "execution_count": 15,
   "metadata": {},
   "outputs": [
    {
     "data": {
      "text/html": [
       "<div>\n",
       "<style scoped>\n",
       "    .dataframe tbody tr th:only-of-type {\n",
       "        vertical-align: middle;\n",
       "    }\n",
       "\n",
       "    .dataframe tbody tr th {\n",
       "        vertical-align: top;\n",
       "    }\n",
       "\n",
       "    .dataframe thead th {\n",
       "        text-align: right;\n",
       "    }\n",
       "</style>\n",
       "<table border=\"1\" class=\"dataframe\">\n",
       "  <thead>\n",
       "    <tr style=\"text-align: right;\">\n",
       "      <th></th>\n",
       "      <th>class</th>\n",
       "      <th>hope</th>\n",
       "      <th>interesting</th>\n",
       "      <th>knoww</th>\n",
       "      <th>let</th>\n",
       "      <th>please</th>\n",
       "    </tr>\n",
       "  </thead>\n",
       "  <tbody>\n",
       "    <tr>\n",
       "      <th>0</th>\n",
       "      <td>1</td>\n",
       "      <td>0</td>\n",
       "      <td>0</td>\n",
       "      <td>0</td>\n",
       "      <td>0</td>\n",
       "      <td>0</td>\n",
       "    </tr>\n",
       "    <tr>\n",
       "      <th>1</th>\n",
       "      <td>0</td>\n",
       "      <td>1</td>\n",
       "      <td>1</td>\n",
       "      <td>0</td>\n",
       "      <td>0</td>\n",
       "      <td>0</td>\n",
       "    </tr>\n",
       "    <tr>\n",
       "      <th>2</th>\n",
       "      <td>0</td>\n",
       "      <td>0</td>\n",
       "      <td>0</td>\n",
       "      <td>1</td>\n",
       "      <td>1</td>\n",
       "      <td>1</td>\n",
       "    </tr>\n",
       "  </tbody>\n",
       "</table>\n",
       "</div>"
      ],
      "text/plain": [
       "   class  hope  interesting  knoww  let  please\n",
       "0      1     0            0      0    0       0\n",
       "1      0     1            1      0    0       0\n",
       "2      0     0            0      1    1       1"
      ]
     },
     "execution_count": 15,
     "metadata": {},
     "output_type": "execute_result"
    }
   ],
   "source": [
    "#unigram\n",
    "vectorizer = CountVectorizer(ngram_range=(1,1)) \n",
    "X = vectorizer.fit_transform(correct_sentence_list)\n",
    "df = pd.DataFrame(X.toarray())\n",
    "df.columns = vectorizer.get_feature_names_out()\n",
    "df"
   ]
  },
  {
   "cell_type": "code",
   "execution_count": 16,
   "metadata": {},
   "outputs": [
    {
     "data": {
      "text/html": [
       "<div>\n",
       "<style scoped>\n",
       "    .dataframe tbody tr th:only-of-type {\n",
       "        vertical-align: middle;\n",
       "    }\n",
       "\n",
       "    .dataframe tbody tr th {\n",
       "        vertical-align: top;\n",
       "    }\n",
       "\n",
       "    .dataframe thead th {\n",
       "        text-align: right;\n",
       "    }\n",
       "</style>\n",
       "<table border=\"1\" class=\"dataframe\">\n",
       "  <thead>\n",
       "    <tr style=\"text-align: right;\">\n",
       "      <th></th>\n",
       "      <th>class</th>\n",
       "      <th>hope</th>\n",
       "      <th>interesting</th>\n",
       "      <th>knoww</th>\n",
       "      <th>let</th>\n",
       "      <th>please</th>\n",
       "    </tr>\n",
       "  </thead>\n",
       "  <tbody>\n",
       "    <tr>\n",
       "      <th>0</th>\n",
       "      <td>1.0</td>\n",
       "      <td>0.00</td>\n",
       "      <td>0.00</td>\n",
       "      <td>0.00</td>\n",
       "      <td>0.00</td>\n",
       "      <td>0.00</td>\n",
       "    </tr>\n",
       "    <tr>\n",
       "      <th>1</th>\n",
       "      <td>0.0</td>\n",
       "      <td>0.71</td>\n",
       "      <td>0.71</td>\n",
       "      <td>0.00</td>\n",
       "      <td>0.00</td>\n",
       "      <td>0.00</td>\n",
       "    </tr>\n",
       "    <tr>\n",
       "      <th>2</th>\n",
       "      <td>0.0</td>\n",
       "      <td>0.00</td>\n",
       "      <td>0.00</td>\n",
       "      <td>0.58</td>\n",
       "      <td>0.58</td>\n",
       "      <td>0.58</td>\n",
       "    </tr>\n",
       "  </tbody>\n",
       "</table>\n",
       "</div>"
      ],
      "text/plain": [
       "   class  hope  interesting  knoww   let  please\n",
       "0    1.0  0.00         0.00   0.00  0.00    0.00\n",
       "1    0.0  0.71         0.71   0.00  0.00    0.00\n",
       "2    0.0  0.00         0.00   0.58  0.58    0.58"
      ]
     },
     "execution_count": 16,
     "metadata": {},
     "output_type": "execute_result"
    }
   ],
   "source": [
    "# Tf-Idf transformation of unigram\n",
    "vectorizer = TfidfVectorizer(ngram_range=(1,1)) \n",
    "X = vectorizer.fit_transform(correct_sentence_list)\n",
    "df = pd.DataFrame(X.toarray())\n",
    "df.columns = vectorizer.get_feature_names_out()\n",
    "df.round(2)"
   ]
  },
  {
   "cell_type": "code",
   "execution_count": 17,
   "metadata": {},
   "outputs": [
    {
     "data": {
      "text/html": [
       "<div>\n",
       "<style scoped>\n",
       "    .dataframe tbody tr th:only-of-type {\n",
       "        vertical-align: middle;\n",
       "    }\n",
       "\n",
       "    .dataframe tbody tr th {\n",
       "        vertical-align: top;\n",
       "    }\n",
       "\n",
       "    .dataframe thead th {\n",
       "        text-align: right;\n",
       "    }\n",
       "</style>\n",
       "<table border=\"1\" class=\"dataframe\">\n",
       "  <thead>\n",
       "    <tr style=\"text-align: right;\">\n",
       "      <th></th>\n",
       "      <th>class is</th>\n",
       "      <th>hopep it</th>\n",
       "      <th>if not</th>\n",
       "      <th>intersting to</th>\n",
       "      <th>is intersting</th>\n",
       "      <th>is over</th>\n",
       "      <th>it is</th>\n",
       "      <th>knoww if</th>\n",
       "      <th>let me</th>\n",
       "      <th>me knoww</th>\n",
       "      <th>please let</th>\n",
       "      <th>the class</th>\n",
       "      <th>to you</th>\n",
       "    </tr>\n",
       "  </thead>\n",
       "  <tbody>\n",
       "    <tr>\n",
       "      <th>0</th>\n",
       "      <td>1</td>\n",
       "      <td>0</td>\n",
       "      <td>0</td>\n",
       "      <td>0</td>\n",
       "      <td>0</td>\n",
       "      <td>1</td>\n",
       "      <td>0</td>\n",
       "      <td>0</td>\n",
       "      <td>0</td>\n",
       "      <td>0</td>\n",
       "      <td>0</td>\n",
       "      <td>1</td>\n",
       "      <td>0</td>\n",
       "    </tr>\n",
       "    <tr>\n",
       "      <th>1</th>\n",
       "      <td>0</td>\n",
       "      <td>1</td>\n",
       "      <td>0</td>\n",
       "      <td>1</td>\n",
       "      <td>1</td>\n",
       "      <td>0</td>\n",
       "      <td>1</td>\n",
       "      <td>0</td>\n",
       "      <td>0</td>\n",
       "      <td>0</td>\n",
       "      <td>0</td>\n",
       "      <td>0</td>\n",
       "      <td>1</td>\n",
       "    </tr>\n",
       "    <tr>\n",
       "      <th>2</th>\n",
       "      <td>0</td>\n",
       "      <td>0</td>\n",
       "      <td>1</td>\n",
       "      <td>0</td>\n",
       "      <td>0</td>\n",
       "      <td>0</td>\n",
       "      <td>0</td>\n",
       "      <td>1</td>\n",
       "      <td>1</td>\n",
       "      <td>1</td>\n",
       "      <td>1</td>\n",
       "      <td>0</td>\n",
       "      <td>0</td>\n",
       "    </tr>\n",
       "  </tbody>\n",
       "</table>\n",
       "</div>"
      ],
      "text/plain": [
       "   class is  hopep it  if not  intersting to  is intersting  is over  it is  \\\n",
       "0         1         0       0              0              0        1      0   \n",
       "1         0         1       0              1              1        0      1   \n",
       "2         0         0       1              0              0        0      0   \n",
       "\n",
       "   knoww if  let me  me knoww  please let  the class  to you  \n",
       "0         0       0         0           0          1       0  \n",
       "1         0       0         0           0          0       1  \n",
       "2         1       1         1           1          0       0  "
      ]
     },
     "execution_count": 17,
     "metadata": {},
     "output_type": "execute_result"
    }
   ],
   "source": [
    "#bigram\n",
    "vectorizer = CountVectorizer(ngram_range=(2,2))\n",
    "X = vectorizer.fit_transform(sentence_list)\n",
    "df = pd.DataFrame(X.toarray())\n",
    "df.columns = vectorizer.get_feature_names_out()\n",
    "df"
   ]
  },
  {
   "cell_type": "markdown",
   "metadata": {},
   "source": [
    "### 3. Latent Semantic Analysis\n",
    "Here is a great tutorial for more details for using Gensim: <https://www.datacamp.com/tutorial/discovering-hidden-topics-python>"
   ]
  },
  {
   "cell_type": "code",
   "execution_count": 18,
   "metadata": {},
   "outputs": [],
   "source": [
    "from sklearn.decomposition import TruncatedSVD\n",
    "import numpy as np\n",
    "import matplotlib.pyplot as plt"
   ]
  },
  {
   "cell_type": "code",
   "execution_count": 19,
   "metadata": {},
   "outputs": [],
   "source": [
    "# documents from communication in a collaborative task\n",
    "doc_list=[\"So, apt. A has mail + packages delivered directly to the tenants, guaranteed same rent for 2 years, and free wifi\", \n",
    "          \"I like a as well\",\"I did pick C as the best however A also has several friends that live in the same building\", \n",
    "          \"all utilities are included, and it includes 2 full bathrooms\", \"A or C is my pick, because B's rent apparently usually increases 20% after the 1st yr\",\n",
    "          \"It also has onsite laundry which is clean and well maintained and available 24 7\", \"I think I'd go with A, then\", \"I think that the availability of  maintenance makes C the best\",\n",
    "          \"Can we all agree that B is the worst?\", \"Apartment B has tenants next door with a salt water aquarium, cell phone service connectivity is weak, and there is only one full bathroom in the apartment\",\n",
    "          \"C says maintenance isn't always handled promptly, so I'm worried about it\", \"B is def worst\", \"so yeah I dislike B\", \"A,C,B then?\", \"that weak cell phone service is enough to make me not even consider it lol\",\n",
    "          \"Yeah utilities arent included for b\", \"A, C, B is definitely what I'd do, yeah\", \"I'd agree\", \"Apartment C offers a discount for local college students, the complex is located on land that used to be a farm, and the landlord owns a pizza restaurant\",\n",
    "          \"i agree with A, C, B\", \"The 20% rent increase after a year for B is a big oof\"]"
   ]
  },
  {
   "cell_type": "code",
   "execution_count": 20,
   "metadata": {},
   "outputs": [
    {
     "data": {
      "text/plain": [
       "21"
      ]
     },
     "execution_count": 20,
     "metadata": {},
     "output_type": "execute_result"
    }
   ],
   "source": [
    "len(doc_list)"
   ]
  },
  {
   "cell_type": "code",
   "execution_count": 21,
   "metadata": {},
   "outputs": [],
   "source": [
    "# Applying preprocessing\n",
    "\n",
    "doc_list_correct = []\n",
    "for sent in doc_list:\n",
    "    doc_list_correct.append(' '.join([spell.correction(wd) for wd in word_tokenize(sent.lower()) \\\n",
    "                                  if wd not in stopword_list+punctuation_list]))"
   ]
  },
  {
   "cell_type": "code",
   "execution_count": 22,
   "metadata": {},
   "outputs": [
    {
     "data": {
      "text/plain": [
       "['apt mail packages delivered directly tenants guaranteed rent 2 years free wifi',\n",
       " 'like well',\n",
       " 'pick i best however also several friends live building',\n",
       " 'utilities included includes 2 full bathrooms',\n",
       " 'i pick i is rent apparently usually increases 20 est yr',\n",
       " 'also onsite laundry clean well maintained available 24 7',\n",
       " \"think i'd go\",\n",
       " 'think availability maintenance makes i best',\n",
       " 'agree i worst',\n",
       " 'apartment i tenants next door salt water aquarium cell phone service connectivity weak one full bathroom apartment',\n",
       " 'i says maintenance not always handled promptly am worried',\n",
       " 'i def worst',\n",
       " 'yeah dislike i',\n",
       " 'i i',\n",
       " 'weak cell phone service enough make even consider lol',\n",
       " 'yeah utilities arent included i',\n",
       " \"i i definitely i'd yeah\",\n",
       " \"i'd agree\",\n",
       " 'apartment i offers discount local college students complex located land used farm landlord owns pizza restaurant',\n",
       " 'agree i i',\n",
       " '20 rent increase year i big oof']"
      ]
     },
     "execution_count": 22,
     "metadata": {},
     "output_type": "execute_result"
    }
   ],
   "source": [
    "doc_list_correct"
   ]
  },
  {
   "cell_type": "code",
   "execution_count": 23,
   "metadata": {},
   "outputs": [],
   "source": [
    "# get the doc term matrix\n",
    "vectorizer_lsa = TfidfVectorizer(ngram_range=(1,1)) \n",
    "X_lsa = vectorizer_lsa.fit_transform(doc_list_correct)"
   ]
  },
  {
   "cell_type": "code",
   "execution_count": 24,
   "metadata": {},
   "outputs": [
    {
     "data": {
      "text/html": [
       "<div>\n",
       "<style scoped>\n",
       "    .dataframe tbody tr th:only-of-type {\n",
       "        vertical-align: middle;\n",
       "    }\n",
       "\n",
       "    .dataframe tbody tr th {\n",
       "        vertical-align: top;\n",
       "    }\n",
       "\n",
       "    .dataframe thead th {\n",
       "        text-align: right;\n",
       "    }\n",
       "</style>\n",
       "<table border=\"1\" class=\"dataframe\">\n",
       "  <thead>\n",
       "    <tr style=\"text-align: right;\">\n",
       "      <th></th>\n",
       "      <th>0</th>\n",
       "      <th>1</th>\n",
       "      <th>2</th>\n",
       "      <th>3</th>\n",
       "      <th>4</th>\n",
       "      <th>5</th>\n",
       "      <th>6</th>\n",
       "      <th>7</th>\n",
       "      <th>8</th>\n",
       "      <th>9</th>\n",
       "      <th>...</th>\n",
       "      <th>84</th>\n",
       "      <th>85</th>\n",
       "      <th>86</th>\n",
       "      <th>87</th>\n",
       "      <th>88</th>\n",
       "      <th>89</th>\n",
       "      <th>90</th>\n",
       "      <th>91</th>\n",
       "      <th>92</th>\n",
       "      <th>93</th>\n",
       "    </tr>\n",
       "  </thead>\n",
       "  <tbody>\n",
       "    <tr>\n",
       "      <th>0</th>\n",
       "      <td>0.000000</td>\n",
       "      <td>0.0</td>\n",
       "      <td>0.0</td>\n",
       "      <td>0.000000</td>\n",
       "      <td>0.0</td>\n",
       "      <td>0.0</td>\n",
       "      <td>0.0</td>\n",
       "      <td>0.000000</td>\n",
       "      <td>0.30995</td>\n",
       "      <td>0.0</td>\n",
       "      <td>...</td>\n",
       "      <td>0.0</td>\n",
       "      <td>0.0</td>\n",
       "      <td>0.000000</td>\n",
       "      <td>0.30995</td>\n",
       "      <td>0.0</td>\n",
       "      <td>0.0</td>\n",
       "      <td>0.0</td>\n",
       "      <td>0.0</td>\n",
       "      <td>0.30995</td>\n",
       "      <td>0.000000</td>\n",
       "    </tr>\n",
       "    <tr>\n",
       "      <th>1</th>\n",
       "      <td>0.000000</td>\n",
       "      <td>0.0</td>\n",
       "      <td>0.0</td>\n",
       "      <td>0.000000</td>\n",
       "      <td>0.0</td>\n",
       "      <td>0.0</td>\n",
       "      <td>0.0</td>\n",
       "      <td>0.000000</td>\n",
       "      <td>0.00000</td>\n",
       "      <td>0.0</td>\n",
       "      <td>...</td>\n",
       "      <td>0.0</td>\n",
       "      <td>0.0</td>\n",
       "      <td>0.660912</td>\n",
       "      <td>0.00000</td>\n",
       "      <td>0.0</td>\n",
       "      <td>0.0</td>\n",
       "      <td>0.0</td>\n",
       "      <td>0.0</td>\n",
       "      <td>0.00000</td>\n",
       "      <td>0.000000</td>\n",
       "    </tr>\n",
       "    <tr>\n",
       "      <th>2</th>\n",
       "      <td>0.000000</td>\n",
       "      <td>0.0</td>\n",
       "      <td>0.0</td>\n",
       "      <td>0.325356</td>\n",
       "      <td>0.0</td>\n",
       "      <td>0.0</td>\n",
       "      <td>0.0</td>\n",
       "      <td>0.000000</td>\n",
       "      <td>0.00000</td>\n",
       "      <td>0.0</td>\n",
       "      <td>...</td>\n",
       "      <td>0.0</td>\n",
       "      <td>0.0</td>\n",
       "      <td>0.000000</td>\n",
       "      <td>0.00000</td>\n",
       "      <td>0.0</td>\n",
       "      <td>0.0</td>\n",
       "      <td>0.0</td>\n",
       "      <td>0.0</td>\n",
       "      <td>0.00000</td>\n",
       "      <td>0.000000</td>\n",
       "    </tr>\n",
       "    <tr>\n",
       "      <th>3</th>\n",
       "      <td>0.000000</td>\n",
       "      <td>0.0</td>\n",
       "      <td>0.0</td>\n",
       "      <td>0.000000</td>\n",
       "      <td>0.0</td>\n",
       "      <td>0.0</td>\n",
       "      <td>0.0</td>\n",
       "      <td>0.000000</td>\n",
       "      <td>0.00000</td>\n",
       "      <td>0.0</td>\n",
       "      <td>...</td>\n",
       "      <td>0.0</td>\n",
       "      <td>0.0</td>\n",
       "      <td>0.000000</td>\n",
       "      <td>0.00000</td>\n",
       "      <td>0.0</td>\n",
       "      <td>0.0</td>\n",
       "      <td>0.0</td>\n",
       "      <td>0.0</td>\n",
       "      <td>0.00000</td>\n",
       "      <td>0.000000</td>\n",
       "    </tr>\n",
       "    <tr>\n",
       "      <th>4</th>\n",
       "      <td>0.307829</td>\n",
       "      <td>0.0</td>\n",
       "      <td>0.0</td>\n",
       "      <td>0.000000</td>\n",
       "      <td>0.0</td>\n",
       "      <td>0.0</td>\n",
       "      <td>0.0</td>\n",
       "      <td>0.349539</td>\n",
       "      <td>0.00000</td>\n",
       "      <td>0.0</td>\n",
       "      <td>...</td>\n",
       "      <td>0.0</td>\n",
       "      <td>0.0</td>\n",
       "      <td>0.000000</td>\n",
       "      <td>0.00000</td>\n",
       "      <td>0.0</td>\n",
       "      <td>0.0</td>\n",
       "      <td>0.0</td>\n",
       "      <td>0.0</td>\n",
       "      <td>0.00000</td>\n",
       "      <td>0.349539</td>\n",
       "    </tr>\n",
       "  </tbody>\n",
       "</table>\n",
       "<p>5 rows × 94 columns</p>\n",
       "</div>"
      ],
      "text/plain": [
       "         0    1    2         3    4    5    6         7        8    9   ...  \\\n",
       "0  0.000000  0.0  0.0  0.000000  0.0  0.0  0.0  0.000000  0.30995  0.0  ...   \n",
       "1  0.000000  0.0  0.0  0.000000  0.0  0.0  0.0  0.000000  0.00000  0.0  ...   \n",
       "2  0.000000  0.0  0.0  0.325356  0.0  0.0  0.0  0.000000  0.00000  0.0  ...   \n",
       "3  0.000000  0.0  0.0  0.000000  0.0  0.0  0.0  0.000000  0.00000  0.0  ...   \n",
       "4  0.307829  0.0  0.0  0.000000  0.0  0.0  0.0  0.349539  0.00000  0.0  ...   \n",
       "\n",
       "    84   85        86       87   88   89   90   91       92        93  \n",
       "0  0.0  0.0  0.000000  0.30995  0.0  0.0  0.0  0.0  0.30995  0.000000  \n",
       "1  0.0  0.0  0.660912  0.00000  0.0  0.0  0.0  0.0  0.00000  0.000000  \n",
       "2  0.0  0.0  0.000000  0.00000  0.0  0.0  0.0  0.0  0.00000  0.000000  \n",
       "3  0.0  0.0  0.000000  0.00000  0.0  0.0  0.0  0.0  0.00000  0.000000  \n",
       "4  0.0  0.0  0.000000  0.00000  0.0  0.0  0.0  0.0  0.00000  0.349539  \n",
       "\n",
       "[5 rows x 94 columns]"
      ]
     },
     "execution_count": 24,
     "metadata": {},
     "output_type": "execute_result"
    }
   ],
   "source": [
    "#document term matrix\n",
    "pd.DataFrame(X_lsa.toarray()).head(5)"
   ]
  },
  {
   "cell_type": "code",
   "execution_count": 25,
   "metadata": {},
   "outputs": [],
   "source": [
    "# specify the number of topics and create SVD object\n",
    "num_components=10\n",
    "lsa = TruncatedSVD(n_components=num_components, n_iter=100, random_state=42)"
   ]
  },
  {
   "cell_type": "code",
   "execution_count": 26,
   "metadata": {},
   "outputs": [],
   "source": [
    "# fit SVD model on data\n",
    "lsa.fit_transform(X_lsa)\n",
    "\n",
    "# Get Singular values and Components \n",
    "Sigma = lsa.singular_values_ \n",
    "V_T = lsa.components_.T\n"
   ]
  },
  {
   "cell_type": "code",
   "execution_count": 27,
   "metadata": {},
   "outputs": [
    {
     "data": {
      "text/plain": [
       "array([1.61674699, 1.3104269 , 1.16245121, 1.14884931, 1.12503571,\n",
       "       1.10658321, 1.08912215, 1.08230565, 1.00724876, 1.        ])"
      ]
     },
     "execution_count": 27,
     "metadata": {},
     "output_type": "execute_result"
    }
   ],
   "source": [
    "Sigma"
   ]
  },
  {
   "cell_type": "code",
   "execution_count": 29,
   "metadata": {},
   "outputs": [
    {
     "data": {
      "text/plain": [
       "[<matplotlib.lines.Line2D at 0x153b9b790>]"
      ]
     },
     "execution_count": 29,
     "metadata": {},
     "output_type": "execute_result"
    },
    {
     "data": {
      "image/png": "[encoded data removed]",
      "text/plain": [
       "<Figure size 640x480 with 1 Axes>"
      ]
     },
     "metadata": {},
     "output_type": "display_data"
    }
   ],
   "source": [
    "# explained variance by topics\n",
    "plt.plot(lsa.explained_variance_ratio_,'bo-')"
   ]
  },
  {
   "cell_type": "code",
   "execution_count": 30,
   "metadata": {},
   "outputs": [],
   "source": [
    "# Print the topics with their terms\n",
    "terms = vectorizer_lsa.get_feature_names_out()"
   ]
  },
  {
   "cell_type": "code",
   "execution_count": 31,
   "metadata": {},
   "outputs": [
    {
     "name": "stdout",
     "output_type": "stream",
     "text": [
      "Topic 0:  ['agree', 'worst', 'def', '20', 'am']\n",
      "Topic 1:  ['yeah', 'included', 'utilities', 'definitely', 'dislike']\n",
      "Topic 2:  ['think', 'best', 'go', 'maintenance', 'availability']\n",
      "Topic 3:  ['apartment', 'cell', 'phone', 'service', 'weak']\n",
      "Topic 4:  ['rent', '20', 'big', 'increase', 'oof']\n",
      "Topic 5:  ['well', 'like', 'also', 'available', 'clean']\n",
      "Topic 6:  ['worst', 'def', 'well', 'like', 'also']\n",
      "Topic 7:  ['included', 'utilities', 'bathrooms', 'includes', 'full']\n",
      "Topic 8:  ['pick', 'building', 'friends', 'however', 'live']\n",
      "Topic 9:  ['handled', 'not', 'promptly', 'says', 'worried']\n"
     ]
    }
   ],
   "source": [
    "# Print the topics\n",
    "\n",
    "def print_topics(lsa_model):\n",
    "    for index, component in enumerate(lsa_model.components_):\n",
    "        zipped = zip(terms, component)\n",
    "        top_terms_key=sorted(zipped, key = lambda t: t[1], reverse=True)[:5]\n",
    "        top_terms_list=list(dict(top_terms_key).keys())\n",
    "        print(\"Topic \"+str(index)+\": \",top_terms_list)\n",
    "print_topics(lsa)"
   ]
  },
  {
   "cell_type": "markdown",
   "metadata": {},
   "source": [
    "### 4. Neural Embedding"
   ]
  },
  {
   "cell_type": "code",
   "execution_count": 32,
   "metadata": {},
   "outputs": [],
   "source": [
    "# word vectors (word2vec)\n",
    "import gensim.downloader as api\n",
    "from scipy.spatial.distance import cosine"
   ]
  },
  {
   "cell_type": "code",
   "execution_count": 33,
   "metadata": {},
   "outputs": [],
   "source": [
    "#loading the 100 dimension word vector dictionary trained on twitter data. https://nlp.stanford.edu/projects/glove/\n",
    "model = api.load(\"glove-twitter-100\")"
   ]
  },
  {
   "cell_type": "code",
   "execution_count": 35,
   "metadata": {},
   "outputs": [
    {
     "data": {
      "text/plain": [
       "array([ 5.0779e-01, -1.0274e+00,  4.8136e-01, -9.4170e-02,  4.4837e-01,\n",
       "       -5.2291e-01,  5.1498e-01, -3.8927e-02,  3.5867e-01, -6.5994e-02,\n",
       "       -8.2882e-01,  7.6179e-01, -3.8030e+00, -1.0576e-02,  2.1654e-01,\n",
       "        5.9712e-01,  3.7424e-01, -2.2629e-02, -1.0331e-02, -3.3966e-01,\n",
       "        9.4336e-02,  2.6253e-01, -4.0161e-01, -7.9532e-03,  1.0206e+00,\n",
       "       -3.5793e-01, -5.6500e-01,  5.8815e-01, -8.1847e-01,  3.0293e-01,\n",
       "        4.7199e-01, -9.7429e-02, -6.1226e-01, -1.7797e-01, -1.1616e-01,\n",
       "        3.2586e-01,  1.1498e-01, -1.9030e-01,  1.1591e-02,  4.6478e-01,\n",
       "       -1.6805e-01,  2.1972e-01, -2.5938e-01, -1.3541e-02,  7.0714e-01,\n",
       "        7.8106e-01,  7.9917e-01,  1.0389e+00,  5.2792e-01, -1.1160e-01,\n",
       "       -6.2275e-01,  3.0692e-02,  3.3847e-01, -5.3092e-01, -9.9688e-02,\n",
       "        2.1596e-01,  6.0522e-01,  1.2356e+00, -3.4528e-03, -9.7514e-02,\n",
       "       -2.4938e-01,  2.1539e-01,  4.4643e-01,  9.5375e-02, -2.7366e-01,\n",
       "       -2.8537e-01, -4.0894e-01,  4.8223e-01,  3.0318e-01,  1.9440e-01,\n",
       "        8.3242e-01, -5.0378e-01,  3.0090e-01, -4.9792e-01,  5.0297e-01,\n",
       "        3.2685e-02, -5.1790e-01, -2.3541e-01,  2.2960e-01, -6.3588e-01,\n",
       "        1.6270e+00,  6.2832e-01, -7.4846e-01,  6.0073e-01, -1.1215e-02,\n",
       "       -3.2113e-01,  1.4339e-01, -6.0809e-02,  8.8218e-02,  6.5936e-01,\n",
       "       -4.6127e-01, -3.7644e-01, -1.1330e-01,  1.5875e-01,  3.9119e-01,\n",
       "        6.7659e-01, -7.1224e-02,  1.7458e-01, -3.3406e-02,  7.3152e-01],\n",
       "      dtype=float32)"
      ]
     },
     "execution_count": 35,
     "metadata": {},
     "output_type": "execute_result"
    }
   ],
   "source": [
    "# get the vector of the word cat\n",
    "model.get_vector('dog')"
   ]
  },
  {
   "cell_type": "code",
   "execution_count": 38,
   "metadata": {},
   "outputs": [
    {
     "data": {
      "text/plain": [
       "[('truck', 0.8264449238777161),\n",
       " ('front', 0.7653979659080505),\n",
       " ('cars', 0.7632982730865479),\n",
       " ('driving', 0.7351886034011841),\n",
       " ('bus', 0.7341346740722656),\n",
       " ('drive', 0.7253391146659851),\n",
       " ('garage', 0.7020358443260193),\n",
       " ('cause', 0.7005500197410583),\n",
       " ('bike', 0.6979719996452332),\n",
       " ('on', 0.6933496594429016)]"
      ]
     },
     "execution_count": 38,
     "metadata": {},
     "output_type": "execute_result"
    }
   ],
   "source": [
    "# get the most similar words as cat\n",
    "model.most_similar('car')"
   ]
  },
  {
   "cell_type": "code",
   "execution_count": 41,
   "metadata": {},
   "outputs": [
    {
     "data": {
      "text/plain": [
       "0.7936834692955017"
      ]
     },
     "execution_count": 41,
     "metadata": {},
     "output_type": "execute_result"
    }
   ],
   "source": [
    "# cosine similarity between cat and tiger\n",
    "1-cosine(model.get_vector('cat'), model.get_vector('kitten'))"
   ]
  },
  {
   "cell_type": "code",
   "execution_count": null,
   "metadata": {},
   "outputs": [],
   "source": [
    "#cosine similarity between cat and kitten\n",
    "1-cosine(model.get_vector('cat'), model.get_vector('kitten'))"
   ]
  },
  {
   "cell_type": "code",
   "execution_count": null,
   "metadata": {},
   "outputs": [],
   "source": [
    "#cosine similarit between cat and car\n",
    "1-cosine(model.get_vector('cat'), model.get_vector('car'))"
   ]
  },
  {
   "cell_type": "markdown",
   "metadata": {},
   "source": [
    "### 5. Deep Learning Language Models\n",
    "<https://huggingface.co/models?pipeline_tag=automatic-speech-recognition&sort=downloads>"
   ]
  },
  {
   "cell_type": "code",
   "execution_count": 42,
   "metadata": {},
   "outputs": [
    {
     "name": "stderr",
     "output_type": "stream",
     "text": [
      "/Users/jhao/mambaforge/envs/py38/lib/python3.8/site-packages/tqdm/auto.py:22: TqdmWarning: IProgress not found. Please update jupyter and ipywidgets. See https://ipywidgets.readthedocs.io/en/stable/user_install.html\n",
      "  from .autonotebook import tqdm as notebook_tqdm\n"
     ]
    }
   ],
   "source": [
    "# fill the blank task\n",
    "from transformers import pipeline\n",
    "unmasker = pipeline('fill-mask', model='xlm-roberta-base')"
   ]
  },
  {
   "cell_type": "code",
   "execution_count": 43,
   "metadata": {},
   "outputs": [
    {
     "data": {
      "text/html": [
       "<div>\n",
       "<style scoped>\n",
       "    .dataframe tbody tr th:only-of-type {\n",
       "        vertical-align: middle;\n",
       "    }\n",
       "\n",
       "    .dataframe tbody tr th {\n",
       "        vertical-align: top;\n",
       "    }\n",
       "\n",
       "    .dataframe thead th {\n",
       "        text-align: right;\n",
       "    }\n",
       "</style>\n",
       "<table border=\"1\" class=\"dataframe\">\n",
       "  <thead>\n",
       "    <tr style=\"text-align: right;\">\n",
       "      <th></th>\n",
       "      <th>score</th>\n",
       "      <th>token</th>\n",
       "      <th>token_str</th>\n",
       "      <th>sequence</th>\n",
       "    </tr>\n",
       "  </thead>\n",
       "  <tbody>\n",
       "    <tr>\n",
       "      <th>0</th>\n",
       "      <td>0.213851</td>\n",
       "      <td>15411</td>\n",
       "      <td>course</td>\n",
       "      <td>Hello I'm Jiangang, and I am running a course ...</td>\n",
       "    </tr>\n",
       "    <tr>\n",
       "      <th>1</th>\n",
       "      <td>0.130649</td>\n",
       "      <td>18507</td>\n",
       "      <td>class</td>\n",
       "      <td>Hello I'm Jiangang, and I am running a class t...</td>\n",
       "    </tr>\n",
       "    <tr>\n",
       "      <th>2</th>\n",
       "      <td>0.127468</td>\n",
       "      <td>1528</td>\n",
       "      <td>program</td>\n",
       "      <td>Hello I'm Jiangang, and I am running a program...</td>\n",
       "    </tr>\n",
       "    <tr>\n",
       "      <th>3</th>\n",
       "      <td>0.093742</td>\n",
       "      <td>13452</td>\n",
       "      <td>project</td>\n",
       "      <td>Hello I'm Jiangang, and I am running a project...</td>\n",
       "    </tr>\n",
       "    <tr>\n",
       "      <th>4</th>\n",
       "      <td>0.068059</td>\n",
       "      <td>10696</td>\n",
       "      <td>school</td>\n",
       "      <td>Hello I'm Jiangang, and I am running a school ...</td>\n",
       "    </tr>\n",
       "  </tbody>\n",
       "</table>\n",
       "</div>"
      ],
      "text/plain": [
       "      score  token token_str  \\\n",
       "0  0.213851  15411    course   \n",
       "1  0.130649  18507     class   \n",
       "2  0.127468   1528   program   \n",
       "3  0.093742  13452   project   \n",
       "4  0.068059  10696    school   \n",
       "\n",
       "                                            sequence  \n",
       "0  Hello I'm Jiangang, and I am running a course ...  \n",
       "1  Hello I'm Jiangang, and I am running a class t...  \n",
       "2  Hello I'm Jiangang, and I am running a program...  \n",
       "3  Hello I'm Jiangang, and I am running a project...  \n",
       "4  Hello I'm Jiangang, and I am running a school ...  "
      ]
     },
     "execution_count": 43,
     "metadata": {},
     "output_type": "execute_result"
    }
   ],
   "source": [
    "pd.DataFrame(unmasker(\"Hello I'm Jiangang, and I am running a <mask> to teach people machine learning.\"))"
   ]
  },
  {
   "cell_type": "code",
   "execution_count": 44,
   "metadata": {},
   "outputs": [
    {
     "data": {
      "text/html": [
       "<div>\n",
       "<style scoped>\n",
       "    .dataframe tbody tr th:only-of-type {\n",
       "        vertical-align: middle;\n",
       "    }\n",
       "\n",
       "    .dataframe tbody tr th {\n",
       "        vertical-align: top;\n",
       "    }\n",
       "\n",
       "    .dataframe thead th {\n",
       "        text-align: right;\n",
       "    }\n",
       "</style>\n",
       "<table border=\"1\" class=\"dataframe\">\n",
       "  <thead>\n",
       "    <tr style=\"text-align: right;\">\n",
       "      <th></th>\n",
       "      <th>score</th>\n",
       "      <th>token</th>\n",
       "      <th>token_str</th>\n",
       "      <th>sequence</th>\n",
       "    </tr>\n",
       "  </thead>\n",
       "  <tbody>\n",
       "    <tr>\n",
       "      <th>0</th>\n",
       "      <td>0.479797</td>\n",
       "      <td>5</td>\n",
       "      <td>.</td>\n",
       "      <td>It is ironic and somehow tragic that good peop...</td>\n",
       "    </tr>\n",
       "    <tr>\n",
       "      <th>1</th>\n",
       "      <td>0.098909</td>\n",
       "      <td>27</td>\n",
       "      <td>...</td>\n",
       "      <td>It is ironic and somehow tragic that good peop...</td>\n",
       "    </tr>\n",
       "    <tr>\n",
       "      <th>2</th>\n",
       "      <td>0.032577</td>\n",
       "      <td>4127</td>\n",
       "      <td>good</td>\n",
       "      <td>It is ironic and somehow tragic that good peop...</td>\n",
       "    </tr>\n",
       "    <tr>\n",
       "      <th>3</th>\n",
       "      <td>0.020705</td>\n",
       "      <td>17723</td>\n",
       "      <td>happy</td>\n",
       "      <td>It is ironic and somehow tragic that good peop...</td>\n",
       "    </tr>\n",
       "    <tr>\n",
       "      <th>4</th>\n",
       "      <td>0.016820</td>\n",
       "      <td>17110</td>\n",
       "      <td>sad</td>\n",
       "      <td>It is ironic and somehow tragic that good peop...</td>\n",
       "    </tr>\n",
       "  </tbody>\n",
       "</table>\n",
       "</div>"
      ],
      "text/plain": [
       "      score  token token_str  \\\n",
       "0  0.479797      5         .   \n",
       "1  0.098909     27       ...   \n",
       "2  0.032577   4127      good   \n",
       "3  0.020705  17723     happy   \n",
       "4  0.016820  17110       sad   \n",
       "\n",
       "                                            sequence  \n",
       "0  It is ironic and somehow tragic that good peop...  \n",
       "1  It is ironic and somehow tragic that good peop...  \n",
       "2  It is ironic and somehow tragic that good peop...  \n",
       "3  It is ironic and somehow tragic that good peop...  \n",
       "4  It is ironic and somehow tragic that good peop...  "
      ]
     },
     "execution_count": 44,
     "metadata": {},
     "output_type": "execute_result"
    }
   ],
   "source": [
    "# another one, A: ordinary, B: stubborn, C: skeptical, D. fascinating, E. unobtrusive\n",
    "pd.DataFrame(unmasker(\"It is ironic and somehow tragic that good people are often dull while evil people can be endlessly <mask>\"))"
   ]
  },
  {
   "cell_type": "code",
   "execution_count": 45,
   "metadata": {},
   "outputs": [],
   "source": [
    "#sentence generation\n",
    "from transformers import pipeline, set_seed\n",
    "#generator = pipeline('text-generation', model='gpt2')\n",
    "generator = pipeline('text-generation', model='EleutherAI/gpt-neo-1.3B')\n",
    "set_seed(43)"
   ]
  },
  {
   "cell_type": "code",
   "execution_count": 46,
   "metadata": {},
   "outputs": [
    {
     "name": "stderr",
     "output_type": "stream",
     "text": [
      "Setting `pad_token_id` to `eos_token_id`:50256 for open-end generation.\n"
     ]
    },
    {
     "name": "stdout",
     "output_type": "stream",
     "text": [
      "Today, I am giving a traing workshop on machine learning and NLP. I am going to demonstrate various techniques on NLP, including named entity recognition, stemming, and phrase structure parsing.\n",
      "\n",
      "You can use this to apply all kinds of NLP tasks on text datasets and see what you get back.\n",
      "\n",
      "To enable others to benefit, I am sharing my knowledge freely and will ask for permission before sharing any code or data that I have. I encourage others to do the same.\n",
      "\n",
      "My goal is to create a general-purpose deep learning framework for NLP tasks, and\n"
     ]
    }
   ],
   "source": [
    "prompt='Today, I am giving a traing workshop on machine learning and NLP. I am going to'\n",
    "print(generator(prompt, max_length=120, num_return_sequences=1)[0].get('generated_text'))"
   ]
  },
  {
   "cell_type": "markdown",
   "metadata": {},
   "source": [
    "### 6. Automated Scoring/Classification"
   ]
  },
  {
   "cell_type": "code",
   "execution_count": 47,
   "metadata": {},
   "outputs": [],
   "source": [
    "# load the movie review sentiment data. Originally from: https://www.kaggle.com/competitions/sentiment-analysis-on-movie-reviews\n",
    "# 0 - negative\n",
    "# 1 - somewhat negative\n",
    "# 2 - neutral\n",
    "# 3 - somewhat positive\n",
    "# 4 - positive\n",
    "ds = pd.read_csv('../data/movie_sentiment.tsv',sep='\\t', low_memory=False)"
   ]
  },
  {
   "cell_type": "code",
   "execution_count": 48,
   "metadata": {},
   "outputs": [
    {
     "data": {
      "text/html": [
       "<div>\n",
       "<style scoped>\n",
       "    .dataframe tbody tr th:only-of-type {\n",
       "        vertical-align: middle;\n",
       "    }\n",
       "\n",
       "    .dataframe tbody tr th {\n",
       "        vertical-align: top;\n",
       "    }\n",
       "\n",
       "    .dataframe thead th {\n",
       "        text-align: right;\n",
       "    }\n",
       "</style>\n",
       "<table border=\"1\" class=\"dataframe\">\n",
       "  <thead>\n",
       "    <tr style=\"text-align: right;\">\n",
       "      <th></th>\n",
       "      <th>PhraseId</th>\n",
       "      <th>SentenceId</th>\n",
       "      <th>Phrase</th>\n",
       "      <th>Sentiment</th>\n",
       "    </tr>\n",
       "  </thead>\n",
       "  <tbody>\n",
       "    <tr>\n",
       "      <th>0</th>\n",
       "      <td>1</td>\n",
       "      <td>1</td>\n",
       "      <td>A series of escapades demonstrating the adage ...</td>\n",
       "      <td>1</td>\n",
       "    </tr>\n",
       "    <tr>\n",
       "      <th>1</th>\n",
       "      <td>2</td>\n",
       "      <td>1</td>\n",
       "      <td>A series of escapades demonstrating the adage ...</td>\n",
       "      <td>2</td>\n",
       "    </tr>\n",
       "    <tr>\n",
       "      <th>2</th>\n",
       "      <td>3</td>\n",
       "      <td>1</td>\n",
       "      <td>A series</td>\n",
       "      <td>2</td>\n",
       "    </tr>\n",
       "    <tr>\n",
       "      <th>3</th>\n",
       "      <td>4</td>\n",
       "      <td>1</td>\n",
       "      <td>A</td>\n",
       "      <td>2</td>\n",
       "    </tr>\n",
       "    <tr>\n",
       "      <th>4</th>\n",
       "      <td>5</td>\n",
       "      <td>1</td>\n",
       "      <td>series</td>\n",
       "      <td>2</td>\n",
       "    </tr>\n",
       "  </tbody>\n",
       "</table>\n",
       "</div>"
      ],
      "text/plain": [
       "   PhraseId  SentenceId                                             Phrase  \\\n",
       "0         1           1  A series of escapades demonstrating the adage ...   \n",
       "1         2           1  A series of escapades demonstrating the adage ...   \n",
       "2         3           1                                           A series   \n",
       "3         4           1                                                  A   \n",
       "4         5           1                                             series   \n",
       "\n",
       "   Sentiment  \n",
       "0          1  \n",
       "1          2  \n",
       "2          2  \n",
       "3          2  \n",
       "4          2  "
      ]
     },
     "execution_count": 48,
     "metadata": {},
     "output_type": "execute_result"
    }
   ],
   "source": [
    "ds.head()"
   ]
  },
  {
   "cell_type": "code",
   "execution_count": 49,
   "metadata": {},
   "outputs": [],
   "source": [
    "vectorizer = TfidfVectorizer(ngram_range=(1,2)) \n",
    "X = vectorizer.fit_transform(ds.Phrase.tolist())\n",
    "y = ds.Sentiment.tolist()"
   ]
  },
  {
   "cell_type": "code",
   "execution_count": 50,
   "metadata": {},
   "outputs": [],
   "source": [
    "# load machine learning model\n",
    "from sklearn.model_selection import train_test_split\n",
    "from sklearn.svm import LinearSVC"
   ]
  },
  {
   "cell_type": "code",
   "execution_count": 51,
   "metadata": {},
   "outputs": [],
   "source": [
    "# split the training and validation\n",
    "X_train, X_test, y_train, y_test = train_test_split(X, y, test_size=0.5, random_state=42)"
   ]
  },
  {
   "cell_type": "code",
   "execution_count": 52,
   "metadata": {},
   "outputs": [],
   "source": [
    "# using linear SVM\n",
    "model_SVM = LinearSVC()\n",
    "tmp = model_SVM.fit(X_train,y_train)"
   ]
  },
  {
   "cell_type": "code",
   "execution_count": 53,
   "metadata": {},
   "outputs": [],
   "source": [
    "# run ML to build automated classifier\n",
    "y_pred_SVM = model_SVM.predict(X_test)"
   ]
  },
  {
   "cell_type": "code",
   "execution_count": 54,
   "metadata": {},
   "outputs": [],
   "source": [
    "confusion_matrix = pd.crosstab(y_test, y_pred_SVM)"
   ]
  },
  {
   "cell_type": "code",
   "execution_count": 55,
   "metadata": {},
   "outputs": [
    {
     "data": {
      "text/html": [
       "<div>\n",
       "<style scoped>\n",
       "    .dataframe tbody tr th:only-of-type {\n",
       "        vertical-align: middle;\n",
       "    }\n",
       "\n",
       "    .dataframe tbody tr th {\n",
       "        vertical-align: top;\n",
       "    }\n",
       "\n",
       "    .dataframe thead th {\n",
       "        text-align: right;\n",
       "    }\n",
       "</style>\n",
       "<table border=\"1\" class=\"dataframe\">\n",
       "  <thead>\n",
       "    <tr style=\"text-align: right;\">\n",
       "      <th>col_0</th>\n",
       "      <th>0</th>\n",
       "      <th>1</th>\n",
       "      <th>2</th>\n",
       "      <th>3</th>\n",
       "      <th>4</th>\n",
       "    </tr>\n",
       "    <tr>\n",
       "      <th>row_0</th>\n",
       "      <th></th>\n",
       "      <th></th>\n",
       "      <th></th>\n",
       "      <th></th>\n",
       "      <th></th>\n",
       "    </tr>\n",
       "  </thead>\n",
       "  <tbody>\n",
       "    <tr>\n",
       "      <th>0</th>\n",
       "      <td>1264</td>\n",
       "      <td>1668</td>\n",
       "      <td>554</td>\n",
       "      <td>45</td>\n",
       "      <td>5</td>\n",
       "    </tr>\n",
       "    <tr>\n",
       "      <th>1</th>\n",
       "      <td>1130</td>\n",
       "      <td>6270</td>\n",
       "      <td>5825</td>\n",
       "      <td>408</td>\n",
       "      <td>16</td>\n",
       "    </tr>\n",
       "    <tr>\n",
       "      <th>2</th>\n",
       "      <td>283</td>\n",
       "      <td>3405</td>\n",
       "      <td>31973</td>\n",
       "      <td>3652</td>\n",
       "      <td>207</td>\n",
       "    </tr>\n",
       "    <tr>\n",
       "      <th>3</th>\n",
       "      <td>23</td>\n",
       "      <td>380</td>\n",
       "      <td>6467</td>\n",
       "      <td>8197</td>\n",
       "      <td>1581</td>\n",
       "    </tr>\n",
       "    <tr>\n",
       "      <th>4</th>\n",
       "      <td>3</td>\n",
       "      <td>25</td>\n",
       "      <td>459</td>\n",
       "      <td>2361</td>\n",
       "      <td>1829</td>\n",
       "    </tr>\n",
       "  </tbody>\n",
       "</table>\n",
       "</div>"
      ],
      "text/plain": [
       "col_0     0     1      2     3     4\n",
       "row_0                               \n",
       "0      1264  1668    554    45     5\n",
       "1      1130  6270   5825   408    16\n",
       "2       283  3405  31973  3652   207\n",
       "3        23   380   6467  8197  1581\n",
       "4         3    25    459  2361  1829"
      ]
     },
     "execution_count": 55,
     "metadata": {},
     "output_type": "execute_result"
    }
   ],
   "source": [
    "confusion_matrix"
   ]
  },
  {
   "cell_type": "code",
   "execution_count": 56,
   "metadata": {},
   "outputs": [],
   "source": [
    "# get more classification report\n",
    "import seaborn as sbn\n",
    "from sklearn.metrics import classification_report"
   ]
  },
  {
   "cell_type": "code",
   "execution_count": 57,
   "metadata": {},
   "outputs": [
    {
     "name": "stdout",
     "output_type": "stream",
     "text": [
      "              precision    recall  f1-score   support\n",
      "\n",
      "           0       0.47      0.36      0.41      3536\n",
      "           1       0.53      0.46      0.49     13649\n",
      "           2       0.71      0.81      0.75     39520\n",
      "           3       0.56      0.49      0.52     16648\n",
      "           4       0.50      0.39      0.44      4677\n",
      "\n",
      "    accuracy                           0.63     78030\n",
      "   macro avg       0.55      0.50      0.52     78030\n",
      "weighted avg       0.62      0.63      0.62     78030\n",
      "\n"
     ]
    }
   ],
   "source": [
    "print(classification_report(y_test,y_pred_SVM))"
   ]
  },
  {
   "cell_type": "code",
   "execution_count": 58,
   "metadata": {},
   "outputs": [
    {
     "data": {
      "text/plain": [
       "<AxesSubplot: xlabel='col_0', ylabel='row_0'>"
      ]
     },
     "execution_count": 58,
     "metadata": {},
     "output_type": "execute_result"
    },
    {
     "data": {
      "image/png": "[encoded data removed]",
      "text/plain": [
       "<Figure size 640x480 with 2 Axes>"
      ]
     },
     "metadata": {},
     "output_type": "display_data"
    }
   ],
   "source": [
    "sbn.heatmap(confusion_matrix,annot=True,fmt='.0f',cmap=\"Accent\")"
   ]
  },
  {
   "cell_type": "code",
   "execution_count": null,
   "metadata": {},
   "outputs": [],
   "source": []
  }
 ],
 "metadata": {
  "kernelspec": {
   "display_name": "Python 3 (ipykernel)",
   "language": "python",
   "name": "python3"
  },
  "language_info": {
   "codemirror_mode": {
    "name": "ipython",
    "version": 3
   },
   "file_extension": ".py",
   "mimetype": "text/x-python",
   "name": "python",
   "nbconvert_exporter": "python",
   "pygments_lexer": "ipython3",
   "version": "3.8.13"
  }
 },
 "nbformat": 4,
 "nbformat_minor": 4
}
